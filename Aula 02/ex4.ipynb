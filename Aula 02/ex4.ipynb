{
 "cells": [
  {
   "cell_type": "code",
   "execution_count": 1,
   "metadata": {},
   "outputs": [],
   "source": [
    "import pandas as pd"
   ]
  },
  {
   "cell_type": "code",
   "execution_count": 2,
   "metadata": {},
   "outputs": [],
   "source": [
    "dados1 = {\n",
    "    'Data': ['2023-01-01', '2023-01-02', '2023-01-03'],\n",
    "    'Produto': ['Item A', 'Item B', 'Item A'],\n",
    "    'Quantidade': [10, 5, 8],\n",
    "    'Valor': [100.00, 50.00, 80.00]\n",
    "}\n"
   ]
  },
  {
   "cell_type": "code",
   "execution_count": 3,
   "metadata": {},
   "outputs": [],
   "source": [
    "dados2 = {\n",
    "    'Data': ['2023-02-01', '2023-02-02', '2023-02-03'],\n",
    "    'Produto': ['Item C', 'Item B', 'Item D'],\n",
    "    'Quantidade': [12, 6, 3],\n",
    "    'Valor': [120.00, 60.00, 30.00]\n",
    "}"
   ]
  },
  {
   "cell_type": "code",
   "execution_count": 4,
   "metadata": {},
   "outputs": [],
   "source": [
    "df1 = pd.DataFrame(dados1)"
   ]
  },
  {
   "cell_type": "code",
   "execution_count": 5,
   "metadata": {},
   "outputs": [],
   "source": [
    "df2 = pd.DataFrame(dados2)"
   ]
  },
  {
   "cell_type": "code",
   "execution_count": 6,
   "metadata": {},
   "outputs": [
    {
     "name": "stdout",
     "output_type": "stream",
     "text": [
      "DataFrame 1:\n"
     ]
    }
   ],
   "source": [
    "print(\"DataFrame 1:\")"
   ]
  },
  {
   "cell_type": "code",
   "execution_count": 7,
   "metadata": {},
   "outputs": [
    {
     "name": "stdout",
     "output_type": "stream",
     "text": [
      "         Data Produto  Quantidade  Valor\n",
      "0  2023-01-01  Item A          10  100.0\n",
      "1  2023-01-02  Item B           5   50.0\n",
      "2  2023-01-03  Item A           8   80.0\n"
     ]
    }
   ],
   "source": [
    "print(df1)"
   ]
  },
  {
   "cell_type": "code",
   "execution_count": 8,
   "metadata": {},
   "outputs": [
    {
     "name": "stdout",
     "output_type": "stream",
     "text": [
      "\n",
      "DataFrame 2:\n"
     ]
    }
   ],
   "source": [
    "print(\"\\nDataFrame 2:\")"
   ]
  },
  {
   "cell_type": "code",
   "execution_count": 9,
   "metadata": {},
   "outputs": [
    {
     "name": "stdout",
     "output_type": "stream",
     "text": [
      "         Data Produto  Quantidade  Valor\n",
      "0  2023-02-01  Item C          12  120.0\n",
      "1  2023-02-02  Item B           6   60.0\n",
      "2  2023-02-03  Item D           3   30.0\n"
     ]
    }
   ],
   "source": [
    "print(df2)"
   ]
  }
 ],
 "metadata": {
  "kernelspec": {
   "display_name": "Python 3",
   "language": "python",
   "name": "python3"
  },
  "language_info": {
   "codemirror_mode": {
    "name": "ipython",
    "version": 3
   },
   "file_extension": ".py",
   "mimetype": "text/x-python",
   "name": "python",
   "nbconvert_exporter": "python",
   "pygments_lexer": "ipython3",
   "version": "3.11.3"
  }
 },
 "nbformat": 4,
 "nbformat_minor": 2
}
