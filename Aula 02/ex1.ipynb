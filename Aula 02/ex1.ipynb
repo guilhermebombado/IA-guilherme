{
 "cells": [
  {
   "cell_type": "code",
   "execution_count": 2,
   "metadata": {},
   "outputs": [],
   "source": [
    "import pandas as pd\n"
   ]
  },
  {
   "cell_type": "code",
   "execution_count": 1,
   "metadata": {},
   "outputs": [],
   "source": [
    "dados = {\n",
    "    'ID': [1, 2, 3, 4, 5, 6],\n",
    "    'Nome': ['Alice', 'Julia', 'Bruna', 'Daniel', 'Filipe', 'Silvio'],\n",
    "    'Idade': [19, 22, 28, 34, 28, 48],\n",
    "    'Profissão': [\n",
    "        'Direito',\n",
    "        'Engenharia',\n",
    "        'Enfermagem',\n",
    "        'Engenheiro Civil',\n",
    "        'Cientista da Computação',\n",
    "        'Engenheiro Eletrônico'\n",
    "    ]\n",
    "}\n",
    "\n"
   ]
  },
  {
   "cell_type": "code",
   "execution_count": 3,
   "metadata": {},
   "outputs": [],
   "source": [
    "df = pd.DataFrame(dados)"
   ]
  },
  {
   "cell_type": "code",
   "execution_count": 4,
   "metadata": {},
   "outputs": [
    {
     "name": "stdout",
     "output_type": "stream",
     "text": [
      "   ID    Nome  Idade                Profissão\n",
      "0   1   Alice     19                  Direito\n",
      "1   2   Julia     22               Engenharia\n",
      "2   3   Bruna     28               Enfermagem\n",
      "3   4  Daniel     34         Engenheiro Civil\n",
      "4   5  Filipe     28  Cientista da Computação\n",
      "5   6  Silvio     48    Engenheiro Eletrônico\n"
     ]
    }
   ],
   "source": [
    "print(df)"
   ]
  },
  {
   "cell_type": "code",
   "execution_count": null,
   "metadata": {},
   "outputs": [],
   "source": []
  }
 ],
 "metadata": {
  "kernelspec": {
   "display_name": "Python 3",
   "language": "python",
   "name": "python3"
  },
  "language_info": {
   "codemirror_mode": {
    "name": "ipython",
    "version": 3
   },
   "file_extension": ".py",
   "mimetype": "text/x-python",
   "name": "python",
   "nbconvert_exporter": "python",
   "pygments_lexer": "ipython3",
   "version": "3.11.3"
  }
 },
 "nbformat": 4,
 "nbformat_minor": 2
}
