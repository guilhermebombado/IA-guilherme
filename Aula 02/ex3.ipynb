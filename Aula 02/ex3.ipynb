{
 "cells": [
  {
   "cell_type": "code",
   "execution_count": 1,
   "metadata": {},
   "outputs": [],
   "source": [
    "import pandas as pd"
   ]
  },
  {
   "cell_type": "code",
   "execution_count": 2,
   "metadata": {},
   "outputs": [],
   "source": [
    "dados1 = {\n",
    "    'ID': [1, 2, 3, 4],\n",
    "    'Nome': ['Ana', 'Pedro', 'Maria', 'João'],\n",
    "    'Setores': ['Rh', 'Vendas', 'Administrativo', 'Produção']\n",
    "}\n",
    "\n",
    "\n",
    "dados2 = {\n",
    "    'ID': [1, 2, 3, 4],\n",
    "    'Salários': [3000, 2800, 3200, 2500]\n",
    "}\n"
   ]
  },
  {
   "cell_type": "code",
   "execution_count": 3,
   "metadata": {},
   "outputs": [],
   "source": [
    "df1 = pd.DataFrame(dados1)"
   ]
  },
  {
   "cell_type": "code",
   "execution_count": 4,
   "metadata": {},
   "outputs": [],
   "source": [
    "df2 = pd.DataFrame(dados2)"
   ]
  },
  {
   "cell_type": "code",
   "execution_count": 5,
   "metadata": {},
   "outputs": [],
   "source": [
    "df_merged = pd.merge(df1, df2, on='ID')"
   ]
  },
  {
   "cell_type": "code",
   "execution_count": 6,
   "metadata": {},
   "outputs": [
    {
     "name": "stdout",
     "output_type": "stream",
     "text": [
      "   ID   Nome         Setores  Salários\n",
      "0   1    Ana              Rh      3000\n",
      "1   2  Pedro          Vendas      2800\n",
      "2   3  Maria  Administrativo      3200\n",
      "3   4   João        Produção      2500\n"
     ]
    }
   ],
   "source": [
    "print(df_merged)"
   ]
  }
 ],
 "metadata": {
  "kernelspec": {
   "display_name": "Python 3",
   "language": "python",
   "name": "python3"
  },
  "language_info": {
   "codemirror_mode": {
    "name": "ipython",
    "version": 3
   },
   "file_extension": ".py",
   "mimetype": "text/x-python",
   "name": "python",
   "nbconvert_exporter": "python",
   "pygments_lexer": "ipython3",
   "version": "3.11.3"
  }
 },
 "nbformat": 4,
 "nbformat_minor": 2
}
