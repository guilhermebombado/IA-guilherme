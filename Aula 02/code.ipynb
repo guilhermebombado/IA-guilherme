{
 "cells": [
  {
   "cell_type": "code",
   "execution_count": null,
   "metadata": {},
   "outputs": [],
   "source": [
    "import pandas as pd"
   ]
  },
  {
   "cell_type": "code",
   "execution_count": 1,
   "metadata": {},
   "outputs": [],
   "source": [
    "dicionario_01 = {\n",
    "    'A' :[1,2,3],\n",
    "    'B' :[-32,-21,-15],\n",
    "    'C' :[60,10,20],\n",
    "    'Chave': ['AA', 'BB','CC']\n",
    "\n",
    "}\n",
    "dicionario_02 ={\n",
    "    'A' :[6,7,8],\n",
    "    'B' :[-39,-28,-17],\n",
    "    'C' :[1000,10,60],\n",
    "    'Chave' :['AA', 'BB','CC']\n",
    "\n",
    "}\n",
    "dicionario_03 ={\n",
    "    'A' :[9,10,11],\n",
    "    'B' :[-39,-22,-17],\n",
    "    'C' :[30,10,20],\n",
    "    'Chave' :['AA', 'BB','CC']\n",
    "}\n",
    "# criando os labels para os dataframes\n",
    "label_01 = ['1ªLinha','2ªLinha','3ªLinha']\n",
    "label_02 = ['4ªLinha','5ªLinha','6ªLinha']\n",
    "label_03 = ['7ªLinha','8ªLinha','9ªLinha']"
   ]
  },
  {
   "cell_type": "code",
   "execution_count": null,
   "metadata": {},
   "outputs": [],
   "source": [
    "# Criando os dataframes\n",
    "df1 = pd.DataFrame(dicionario_01,index=label_01)\n",
    "df2 = pd.DataFrame(dicionario_02,index=label_02)\n",
    "df3 = pd.DataFrame(dicionario_03,index=label_03)"
   ]
  },
  {
   "cell_type": "code",
   "execution_count": null,
   "metadata": {},
   "outputs": [],
   "source": [
    "df1.head()"
   ]
  },
  {
   "cell_type": "code",
   "execution_count": null,
   "metadata": {},
   "outputs": [],
   "source": [
    "df2.head()"
   ]
  },
  {
   "cell_type": "code",
   "execution_count": null,
   "metadata": {},
   "outputs": [],
   "source": [
    "df3.head()"
   ]
  }
 ],
 "metadata": {
  "kernelspec": {
   "display_name": "Python 3",
   "language": "python",
   "name": "python3"
  },
  "language_info": {
   "codemirror_mode": {
    "name": "ipython",
    "version": 3
   },
   "file_extension": ".py",
   "mimetype": "text/x-python",
   "name": "python",
   "nbconvert_exporter": "python",
   "pygments_lexer": "ipython3",
   "version": "3.11.3"
  }
 },
 "nbformat": 4,
 "nbformat_minor": 2
}
